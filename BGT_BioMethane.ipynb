{
  "nbformat": 4,
  "nbformat_minor": 0,
  "metadata": {
    "colab": {
      "provenance": [],
      "collapsed_sections": [
        "W80P0NOD26yA",
        "himbJHUpb_AL"
      ],
      "authorship_tag": "ABX9TyP+3AzdZLqc4yuhAgJ2HPEE",
      "include_colab_link": true
    },
    "kernelspec": {
      "name": "python3",
      "display_name": "Python 3"
    },
    "language_info": {
      "name": "python"
    }
  },
  "cells": [
    {
      "cell_type": "markdown",
      "metadata": {
        "id": "view-in-github",
        "colab_type": "text"
      },
      "source": [
        "<a href=\"https://colab.research.google.com/github/GeertD/blog/blob/main/BGT_BioMethane.ipynb\" target=\"_parent\"><img src=\"https://colab.research.google.com/assets/colab-badge.svg\" alt=\"Open In Colab\"/></a>"
      ]
    },
    {
      "cell_type": "markdown",
      "source": [
        "# Membrane Module\n",
        "For testing Python code for a membrane module.\n",
        "Once this runs, plug into DWSim and use Python.NET."
      ],
      "metadata": {
        "id": "vjfPimbD10O8"
      }
    },
    {
      "cell_type": "markdown",
      "source": [
        "## Imports"
      ],
      "metadata": {
        "id": "L9PPS_vC2EBa"
      }
    },
    {
      "cell_type": "code",
      "source": [
        "!pip install gekko\n",
        "from gekko import GEKKO"
      ],
      "metadata": {
        "colab": {
          "base_uri": "https://localhost:8080/"
        },
        "id": "IpW2RjQ_2Ge6",
        "outputId": "0fc2477a-3a0c-4a88-c02a-48845781f312"
      },
      "execution_count": null,
      "outputs": [
        {
          "output_type": "stream",
          "name": "stdout",
          "text": [
            "Collecting gekko\n",
            "  Downloading gekko-1.2.1-py3-none-any.whl.metadata (3.0 kB)\n",
            "Requirement already satisfied: numpy>=1.8 in /usr/local/lib/python3.11/dist-packages (from gekko) (1.26.4)\n",
            "Downloading gekko-1.2.1-py3-none-any.whl (13.2 MB)\n",
            "\u001b[2K   \u001b[90m━━━━━━━━━━━━━━━━━━━━━━━━━━━━━━━━━━━━━━━━\u001b[0m \u001b[32m13.2/13.2 MB\u001b[0m \u001b[31m38.4 MB/s\u001b[0m eta \u001b[36m0:00:00\u001b[0m\n",
            "\u001b[?25hInstalling collected packages: gekko\n",
            "Successfully installed gekko-1.2.1\n"
          ]
        }
      ]
    },
    {
      "cell_type": "markdown",
      "source": [
        "# Gekko basic NLP"
      ],
      "metadata": {
        "id": "W80P0NOD26yA"
      }
    },
    {
      "cell_type": "markdown",
      "source": [
        "Solve a set of Non Linear equations.\n",
        "\n",
        "Note: no objective function, no optimization problem."
      ],
      "metadata": {
        "id": "lGJdxc2i6INb"
      }
    },
    {
      "cell_type": "code",
      "source": [
        "from gekko import GEKKO\n",
        "\n",
        "m = GEKKO(remote=False)             # create GEKKO model\n",
        "x = m.Var(value=0)\n",
        "y = m.Var(value=1)\n",
        "z = m.Var(value=0)\n",
        "\n",
        "eq1 = x + 2*y == 0\n",
        "eq2 = x**2 + y**2 == 1\n",
        "eq3 = x + y**3 - z == 5\n",
        "\n",
        "m.Equations([eq1, eq2, eq3])\n",
        "\n",
        "result = m.solve(disp=True, debug=False)\n",
        "\n",
        "print([x.value[0],y.value[0], z.value[0]])\n",
        "print(result)\n"
      ],
      "metadata": {
        "colab": {
          "base_uri": "https://localhost:8080/"
        },
        "collapsed": true,
        "id": "P9rKEH546HwY",
        "outputId": "11571a10-36e6-41c3-d46e-a245e98e2708"
      },
      "execution_count": null,
      "outputs": [
        {
          "output_type": "stream",
          "name": "stdout",
          "text": [
            " ----------------------------------------------------------------\n",
            " APMonitor, Version 1.0.3\n",
            " APMonitor Optimization Suite\n",
            " ----------------------------------------------------------------\n",
            " \n",
            " \n",
            " --------- APM Model Size ------------\n",
            " Each time step contains\n",
            "   Objects      :            0\n",
            "   Constants    :            0\n",
            "   Variables    :            3\n",
            "   Intermediates:            0\n",
            "   Connections  :            0\n",
            "   Equations    :            3\n",
            "   Residuals    :            3\n",
            " \n",
            " Number of state variables:              3\n",
            " Number of total equations: -            3\n",
            " Number of slack variables: -            0\n",
            " ---------------------------------------\n",
            " Degrees of freedom       :              0\n",
            " \n",
            " solver            3  not supported\n",
            " using default solver: APOPT\n",
            " ----------------------------------------------\n",
            " Steady State Optimization with APOPT Solver\n",
            " ----------------------------------------------\n",
            " \n",
            " Iter    Objective  Convergence\n",
            "    0  4.00000E-20  1.00000E+00\n",
            "    1  1.21600E-20  5.00000E-01\n",
            "    2  1.18519E-21  2.00000E-01\n",
            "    3  2.31508E-23  2.22222E-02\n",
            "    4  1.04170E-26  4.53515E-04\n",
            "    5  1.04170E-26  4.53515E-04\n",
            " Successful solution\n",
            " \n",
            " ---------------------------------------------------\n",
            " Solver         :  IPOPT (v3.12)\n",
            " Solution time  :   7.460000002174638E-002 sec\n",
            " Objective      :   0.000000000000000E+000\n",
            " Successful solution\n",
            " ---------------------------------------------------\n",
            " \n",
            "\n",
            "[-0.89442755826, 0.44721377913, -5.8049849495]\n",
            "None\n"
          ]
        }
      ]
    },
    {
      "cell_type": "markdown",
      "source": [
        "Non Linear Programming optimization example.\n",
        "\n",
        "[Source](https://apmonitor.com/wiki/index.php/Main/GekkoPythonOptimization)."
      ],
      "metadata": {
        "id": "XkMftwTq4KIA"
      }
    },
    {
      "cell_type": "code",
      "source": [
        "from gekko import GEKKO\n",
        "import numpy as np\n",
        "\n",
        "#Initialize Model\n",
        "m = GEKKO(remote=False)\n",
        "\n",
        "#define parameter\n",
        "eq = m.Param(value=40)\n",
        "\n",
        "#initialize variables\n",
        "x1,x2,x3,x4 = [m.Var(value=2, lb=1.0, ub=5.0) for i in range(4)]\n",
        "\n",
        "#Equations\n",
        "m.Equation(x1*x2*x3*x4>=25)\n",
        "m.Equation(x1**2+x2**2+x3**2+x4**2==eq)\n",
        "\n",
        "#Objective\n",
        "m.Obj(x1*x4*(x1+x2+x3)+x3)\n",
        "\n",
        "#Set global options\n",
        "m.options.IMODE = 3 #steady state optimization\n",
        "\n",
        "#Solve simulation\n",
        "with redirect_stdout(io.StringIO()) as f:\n",
        "    m.solve(disp=True)\n",
        "result = f.getvalue()\n",
        "\n",
        "#Results\n",
        "print('Results:')\n",
        "print('x1: ' + str(x1.value))\n",
        "print('x2: ' + str(x2.value))\n",
        "print('x3: ' + str(x3.value))\n",
        "print('x4: ' + str(x4.value))\n",
        "\n",
        "print(result)"
      ],
      "metadata": {
        "colab": {
          "base_uri": "https://localhost:8080/",
          "height": 211
        },
        "id": "ooOaXUm92-el",
        "outputId": "4cd7688b-181b-49eb-8fab-41e51e7fa740"
      },
      "execution_count": null,
      "outputs": [
        {
          "output_type": "error",
          "ename": "NameError",
          "evalue": "name 'redirect_stdout' is not defined",
          "traceback": [
            "\u001b[0;31m---------------------------------------------------------------------------\u001b[0m",
            "\u001b[0;31mNameError\u001b[0m                                 Traceback (most recent call last)",
            "\u001b[0;32m<ipython-input-3-e0bc9dfb241a>\u001b[0m in \u001b[0;36m<cell line: 0>\u001b[0;34m()\u001b[0m\n\u001b[1;32m     22\u001b[0m \u001b[0;34m\u001b[0m\u001b[0m\n\u001b[1;32m     23\u001b[0m \u001b[0;31m#Solve simulation\u001b[0m\u001b[0;34m\u001b[0m\u001b[0;34m\u001b[0m\u001b[0m\n\u001b[0;32m---> 24\u001b[0;31m \u001b[0;32mwith\u001b[0m \u001b[0mredirect_stdout\u001b[0m\u001b[0;34m(\u001b[0m\u001b[0mio\u001b[0m\u001b[0;34m.\u001b[0m\u001b[0mStringIO\u001b[0m\u001b[0;34m(\u001b[0m\u001b[0;34m)\u001b[0m\u001b[0;34m)\u001b[0m \u001b[0;32mas\u001b[0m \u001b[0mf\u001b[0m\u001b[0;34m:\u001b[0m\u001b[0;34m\u001b[0m\u001b[0;34m\u001b[0m\u001b[0m\n\u001b[0m\u001b[1;32m     25\u001b[0m     \u001b[0mm\u001b[0m\u001b[0;34m.\u001b[0m\u001b[0msolve\u001b[0m\u001b[0;34m(\u001b[0m\u001b[0mdisp\u001b[0m\u001b[0;34m=\u001b[0m\u001b[0;32mTrue\u001b[0m\u001b[0;34m)\u001b[0m\u001b[0;34m\u001b[0m\u001b[0;34m\u001b[0m\u001b[0m\n\u001b[1;32m     26\u001b[0m \u001b[0mresult\u001b[0m \u001b[0;34m=\u001b[0m \u001b[0mf\u001b[0m\u001b[0;34m.\u001b[0m\u001b[0mgetvalue\u001b[0m\u001b[0;34m(\u001b[0m\u001b[0;34m)\u001b[0m\u001b[0;34m\u001b[0m\u001b[0;34m\u001b[0m\u001b[0m\n",
            "\u001b[0;31mNameError\u001b[0m: name 'redirect_stdout' is not defined"
          ]
        }
      ]
    },
    {
      "cell_type": "code",
      "source": [
        "from contextlib import redirect_stdout\n",
        "import io\n",
        "with redirect_stdout(io.StringIO()) as f:\n",
        "    help(pow)\n",
        "s = f.getvalue()"
      ],
      "metadata": {
        "collapsed": true,
        "id": "cotO-dGc3IyX"
      },
      "execution_count": null,
      "outputs": []
    },
    {
      "cell_type": "code",
      "source": [
        "s"
      ],
      "metadata": {
        "id": "8KHIemAN3u3v"
      },
      "execution_count": null,
      "outputs": []
    },
    {
      "cell_type": "markdown",
      "source": [
        "# Basic model\n",
        "Basic model for gas permeation."
      ],
      "metadata": {
        "id": "KNsXG0-A-eXf"
      }
    },
    {
      "cell_type": "markdown",
      "source": [
        "## Counter-Current model"
      ],
      "metadata": {
        "id": "BnR5qbrz-tyE"
      }
    },
    {
      "cell_type": "code",
      "source": [
        "from gekko import GEKKO"
      ],
      "metadata": {
        "id": "3lbX_81Zmq31"
      },
      "execution_count": null,
      "outputs": []
    },
    {
      "cell_type": "code",
      "source": [
        "# Constants\n",
        "GPU_2_SI = 3.35E-10 # convert GPU to mol/m2.s.Pa\n",
        "\n",
        "# Parameters\n",
        "# Data from Pan(1986), fig 6\n",
        "# all in SI units\n",
        "length_fiber = 0.36   # m\n",
        "OD_fiber = 200e-6   # m\n",
        "number_fibers = 20\n",
        "A = OD_fiber*3.1415*length_fiber*number_fibers  # membrane area (m2)\n",
        "\n",
        "components = [\"H2S\", \"CO2\", \"CH4\", \"N2\"]\n",
        "# q_GPU = [40.05, 1.11, 0.31, 0.06]   # permeances in GPU\n",
        "# q = [q_el*GPU_2_SI for q_el in q_GPU]   # CHECK, convert to numpy arrays\n",
        "q = [2.45e-8, 2.45e-8, 0.1324e-8, 0.134e-8]\n",
        "flow_mode = \"counter-current\"\n",
        "R = len(components) # number of components\n",
        "N = 30   # number of sections\n",
        "Ak = A/N  # membrane area per section (m2)\n",
        "\n",
        "Q_feed = 10e-3  # mol/s (max cut: 0.095e-3)\n",
        "x_feed = [0.2209, 0.0338, 0.6605, 0.0837]   # mole fractions\n",
        "\n",
        "Q_sweep = 0.0  # mol/s\n",
        "x_sweep = [0.0, 0.0, 0.0, 0.0]   # mole fractions\n",
        "\n",
        "p_feed = 5245e3  # Pa\n",
        "p_permeate = 92.8e3 # Pa\n",
        "\n",
        "# Create gekko model\n",
        "m = GEKKO(remote=True)    # change to False when running locally\n",
        "\n",
        "# Variables\n",
        "# Assign two extra sections for feed (i=0) en retentate side (i=N+1)\n",
        "Q_R = m.Array(m.Var, dim=(R, N+2), value=Q_feed/2, lb=0.0, ub=Q_feed)   # component flowrate retentate\n",
        "Q_P = m.Array(m.Var, dim=(R, N+2), value=Q_feed/2, lb=0.0, ub=Q_feed)   # component flowrate permeate\n",
        "\n",
        "# Fix feed and sweep side\n",
        "\n",
        "for i,x in enumerate(x_feed):\n",
        "  m.fix(Q_R[i,0], val=x*Q_feed)    # feed in\n",
        "  m.fix(Q_P[i,0], val=0.0)  # not used\n",
        "\n",
        "for i,x in enumerate(x_sweep):\n",
        "  m.fix(Q_R[i,N+1], val=0.0)  # not used\n",
        "  m.fix(Q_P[i,N+1], val=x*Q_sweep)  # sweep in\n",
        "\n",
        "# Parameters\n",
        "p_R = p_feed\n",
        "p_P = p_permeate\n",
        "\n",
        "# Intermediates\n",
        "# Note: start and end section not used, but easier to follow indices like this\n",
        "Q_Rtot = [m.Intermediate(m.sum(Q_R[:, i])) for i in range(0,N+2)]   # total flowrate retentate\n",
        "Q_Ptot = [m.Intermediate(m.sum(Q_P[:, i])) for i in range(0,N+2)]   # total flowrate permeate\n",
        "\n",
        "# Constraints\n",
        "# Mass balances on retentate side\n",
        "m.Equations([Q_R[j,k-1] == Q_R[j,k] + q[j]*Ak*(p_R*Q_R[j,k]/Q_Rtot[k] - p_P*Q_P[j,k]/Q_Ptot[k]) for j in range(R) for k in range(1,N+1)])\n",
        "\n",
        "# Mass balances on permeate side - COUNTER-CURRENT\n",
        "m.Equations([Q_R[j,k-1] + Q_P[j,k+1] - (Q_R[j,k] + Q_P[j,k]) == 0 for j in range(R) for k in range(1,N+1)])\n",
        "print(\"\")\n",
        "\n"
      ],
      "metadata": {
        "id": "_kXDzH-vmtLd",
        "colab": {
          "base_uri": "https://localhost:8080/"
        },
        "outputId": "024ec7de-3a9f-4b52-c856-a380e06c7f4a"
      },
      "execution_count": 223,
      "outputs": [
        {
          "output_type": "stream",
          "name": "stdout",
          "text": [
            "\n"
          ]
        }
      ]
    },
    {
      "cell_type": "code",
      "source": [
        "# Check model\n",
        "m.options.RTOL = 1e-8\n",
        "m.options.SOLVER = 1  # 1=APOPT, 3=IPOPT\n",
        "m.solve(disp=True, debug=2)\n",
        "m.cleanup()\n",
        "print(f\"Solve status: {m.options.SOLVESTATUS}\")\n",
        "print(f\"Solve time (ms): {m.options.SOLVETIME*1000:.2} \")"
      ],
      "metadata": {
        "colab": {
          "base_uri": "https://localhost:8080/"
        },
        "id": "bKXEQ3jEotAQ",
        "outputId": "a0625ecf-f5bc-43ff-d778-a9b419533b15"
      },
      "execution_count": 224,
      "outputs": [
        {
          "output_type": "stream",
          "name": "stdout",
          "text": [
            "apm 34.169.61.19_gk_model65 <br><pre> ----------------------------------------------------------------\n",
            " APMonitor, Version 1.0.3\n",
            " APMonitor Optimization Suite\n",
            " ----------------------------------------------------------------\n",
            " \n",
            " \n",
            " --------- APM Model Size ------------\n",
            " Each time step contains\n",
            "   Objects      :            0\n",
            "   Constants    :            0\n",
            "   Variables    :          256\n",
            "   Intermediates:           64\n",
            "   Connections  :           32\n",
            "   Equations    :          304\n",
            "   Residuals    :          240\n",
            " \n",
            " Number of state variables:            240\n",
            " Number of total equations: -          240\n",
            " Number of slack variables: -            0\n",
            " ---------------------------------------\n",
            " Degrees of freedom       :              0\n",
            " \n",
            " ----------------------------------------------\n",
            " Steady State Optimization with APOPT Solver\n",
            " ----------------------------------------------\n",
            " \n",
            " Iter    Objective  Convergence\n",
            "    0  8.81000E-25  5.00000E-03\n",
            "    1  1.31430E-26  2.25035E-06\n",
            "    2  9.27190E-31  2.51335E-08\n",
            "    3  9.27190E-31  2.51335E-08\n",
            " Successful solution\n",
            " \n",
            " ---------------------------------------------------\n",
            " Solver         :  APOPT (v1.0)\n",
            " Solution time  :   2.339999997639097E-002 sec\n",
            " Objective      :   0.000000000000000E+000\n",
            " Successful solution\n",
            " ---------------------------------------------------\n",
            " \n",
            "Solve status: 1\n",
            "Solve time (ms): 2.3e+01 \n"
          ]
        }
      ]
    },
    {
      "cell_type": "code",
      "source": [
        "def values(gekko_array):\n",
        "  # Return values from a gekko array as a list of values\n",
        "  return [el[0] for el in gekko_array]"
      ],
      "metadata": {
        "id": "BNoWJ9cJLS10"
      },
      "execution_count": 225,
      "outputs": []
    },
    {
      "cell_type": "code",
      "source": [
        "# Solution summary\n",
        "Q_f = sum(values(Q_R[:,0]))\n",
        "Q_ret = sum(values(Q_R[:,N]))\n",
        "Q_perm = sum(values(Q_P[:,1]))\n",
        "Q_sw = sum(values(Q_P[:,N+1]))\n",
        "\n",
        "print(\"FLOWS:\")\n",
        "print(f\"Feed flow (mol/s): {Q_f}\")\n",
        "print(f\"Retentate flow (mol/s): {Q_ret}\")\n",
        "print(f\"Permeate flow (mol/s): {Q_perm}\")\n",
        "print(f\"Sweep flow (mol/s): {Q_sw}\")\n",
        "print(f\"Relative flow balance (-): {((Q_f + Q_sw)  - (Q_ret + Q_perm))} \")\n",
        "print(f\"Stage cut (-): {Q_perm/Q_f}\")\n",
        "print(\"\")\n",
        "print(\"COMPOSITION:\")\n",
        "print(f\"Components: {components}\")\n",
        "print(f\"Retentate mole fractions: {[Q[0]/Q_ret for Q in Q_R[:,N]]}\")\n",
        "print(f\"Permeate mole fractions: {[Q[0]/Q_perm for Q in Q_P[:,1]]}\")"
      ],
      "metadata": {
        "colab": {
          "base_uri": "https://localhost:8080/"
        },
        "id": "d5IOb3Fc0m44",
        "outputId": "2b8af6dd-f248-4376-9d20-46e6cf1fe691"
      },
      "execution_count": 226,
      "outputs": [
        {
          "output_type": "stream",
          "name": "stdout",
          "text": [
            "FLOWS:\n",
            "Feed flow (mol/s): 0.009989\n",
            "Retentate flow (mol/s): 0.00982895195718\n",
            "Permeate flow (mol/s): 0.0001600480428484\n",
            "Sweep flow (mol/s): 0.0\n",
            "Relative flow balance (-): -2.839915802521631e-14 \n",
            "Stage cut (-): 0.016022428956692363\n",
            "\n",
            "COMPOSITION:\n",
            "Components: ['H2S', 'CO2', 'CH4', 'N2']\n",
            "Retentate mole fractions: [0.21269645167741813, 0.032544776761913925, 0.6698740957717577, 0.08488467578891035]\n",
            "Permeate mole fractions: [0.7398828056408427, 0.1132094615312638, 0.13020899835519817, 0.016698734472695355]\n"
          ]
        }
      ]
    },
    {
      "cell_type": "code",
      "source": [
        "Q_perm = sum(values(Q_P[:,1]))\n",
        "Q_perm"
      ],
      "metadata": {
        "colab": {
          "base_uri": "https://localhost:8080/"
        },
        "id": "z1w3tY_qmPcW",
        "outputId": "96bc74a1-1792-47d7-968d-e9b4cf4769a8"
      },
      "execution_count": 202,
      "outputs": [
        {
          "output_type": "execute_result",
          "data": {
            "text/plain": [
              "0.0001600480428484"
            ]
          },
          "metadata": {},
          "execution_count": 202
        }
      ]
    },
    {
      "cell_type": "markdown",
      "source": [
        "## General model\n",
        "Valid for different flow modes."
      ],
      "metadata": {
        "id": "cx0B_p4L-4eF"
      }
    },
    {
      "cell_type": "code",
      "source": [
        "from gekko import GEKKO"
      ],
      "metadata": {
        "id": "LhhlsxRP-4eG"
      },
      "execution_count": 227,
      "outputs": []
    },
    {
      "cell_type": "code",
      "source": [
        "def membrane_model(params, disp=False):\n",
        "  # Create membrane model and return results\n",
        "  # Parameters: see params\n",
        "  # disp: display detailed solver results\n",
        "  # Returns: results\n",
        "\n",
        "  # Constants\n",
        "  GPU_2_SI = 3.35E-10 # convert GPU to mol/m2.s.Pa\n",
        "\n",
        "  # Parameters\n",
        "  if params['type_membrane'] == 'HF':\n",
        "    A = params['OD_fiber']*3.1415*params['length_fiber']*params['number_fibers']\n",
        "  if params['type_membrane'] == 'SW':\n",
        "    A = params['length_membrane']*params['height_membrane'] # area of membrane (m2)\n",
        "  q = [q_el*GPU_2_SI for q_el in params['q_GPU']]   # permeances\n",
        "  R = len(params['components']) # number of components\n",
        "  N = params['section_count']\n",
        "  Ak = A/N  # membrane area per section (m2)\n",
        "  Q_feed = params['Q_feed']\n",
        "  x_feed = params['x_feed']\n",
        "  Q_sweep = params['Q_sweep']\n",
        "  x_sweep = params['x_sweep']\n",
        "  p_R = params['p_feed']\n",
        "  p_P = params['p_permeate']\n",
        "\n",
        "  # Check data integrity\n",
        "  if (len(q) != R or len(x_feed) != R or len(x_sweep) != R):\n",
        "    print(\"Error: lists of component data (q_GPU, x_feed, x_sweep) not same length as components.\")\n",
        "    return None\n",
        "\n",
        "  # Create gekko model\n",
        "  m = GEKKO(remote=True)    # change to False when running locally\n",
        "\n",
        "  # Variables\n",
        "  # Assign two extra sections for feed (i=0) en retentate side (i=N+1)\n",
        "  Q_R = m.Array(m.Var, dim=(R, N+2), value=Q_feed/2, lb=0.0, ub=Q_feed)   # component flowrate retentate\n",
        "  Q_P = m.Array(m.Var, dim=(R, N+2), value=Q_feed/2, lb=0.0, ub=Q_feed)   # component flowrate permeate\n",
        "\n",
        "  # Fix feed and sweep side\n",
        "  for i,x in enumerate(x_feed):\n",
        "    m.fix(Q_R[i,0], val=x*Q_feed)    # feed in\n",
        "    m.fix(Q_P[i,0], val=0.0)  # not used\n",
        "\n",
        "  for i,x in enumerate(x_sweep):\n",
        "    m.fix(Q_R[i,N+1], val=0.0)  # not used\n",
        "    m.fix(Q_P[i,N+1], val=x*Q_sweep)  # sweep in\n",
        "\n",
        "  # Intermediates\n",
        "  # Note: start and end section not used, but easier to follow indices like this\n",
        "  Q_Rtot = [m.Intermediate(m.sum(Q_R[:, i])) for i in range(0,N+2)]   # total flowrate retentate\n",
        "  Q_Ptot = [m.Intermediate(m.sum(Q_P[:, i])) for i in range(0,N+2)]   # total flowrate permeate\n",
        "\n",
        "  # Constraints\n",
        "  # Mass balances on retentate side\n",
        "  m.Equations([Q_R[j,k-1] == Q_R[j,k] + q[j]*Ak*(p_R*Q_R[j,k]/Q_Rtot[k] - p_P*Q_P[j,k]/Q_Ptot[k]) for j in range(R) for k in range(1,N+1)])\n",
        "\n",
        "  # Mass balances on permeate side\n",
        "  if params['flow_mode'] == 'counter-current':\n",
        "    m.Equations([Q_R[j,k-1] + Q_P[j,k+1] - (Q_R[j,k] + Q_P[j,k]) == 0 for j in range(R) for k in range(1,N+1)])\n",
        "  elif params['flow_mode'] == 'cross-current':\n",
        "    m.Equations([Q_R[j,k-1] + 0 - (Q_R[j,k] + Q_P[j,k]) == 0 for j in range(R) for k in range(1,N+1)])\n",
        "\n",
        "  # run model and return results\n",
        "  m.options.RTOL = 1e-8\n",
        "  m.options.SOLVER = 1  # 1=APOPT, 3=IPOPT\n",
        "  m.options.IMODE = 1 # Force simulation, DOF = 0 is required\n",
        "  m.solve(disp=disp)\n",
        "  print(\"SOLVER:\")\n",
        "  print(f\"Solver status: {m.options.SOLVESTATUS}\")\n",
        "  print(f\"Solver time (ms): {m.options.SOLVETIME*1000:.3}\")\n",
        "  print(\"\")\n",
        "  m.cleanup()\n",
        "\n",
        "  # Solution summary\n",
        "  Q_f = sum(values(Q_R[:,0]))\n",
        "  Q_ret = sum(values(Q_R[:,N]))\n",
        "  if params['flow_mode'] == 'cross-current':\n",
        "    Q_perm = sum(values(Q_P[:,1:N+1]))  # special case for cross-current\n",
        "    Q_perm_comp = [sum(values(Q_P[j,1:N+1])) for j in range(R)]\n",
        "  if params['flow_mode'] == 'counter-current':\n",
        "    Q_perm = sum(values(Q_P[:,1]))\n",
        "    Q_perm_comp = [Q_P[j,1][0] for j in range(R)]\n",
        "\n",
        "  Q_sw = sum(values(Q_P[:,N+1]))\n",
        "\n",
        "  print(\"FLOWS:\")\n",
        "  print(f\"Feed flow (mol/s): {Q_f}\")\n",
        "  print(f\"Retentate flow (mol/s): {Q_ret}\")\n",
        "  print(f\"Permeate flow (mol/s): {Q_perm}\")\n",
        "  print(f\"Sweep flow (mol/s): {Q_sw}\")\n",
        "  print(f\"Relative flow balance (-): {((Q_f + Q_sw)  - (Q_ret + Q_perm))} \")\n",
        "  print(f\"Stage cut (-): {Q_perm/Q_f}\")\n",
        "  print(\"\")\n",
        "  print(\"COMPOSITION:\")\n",
        "  print(f\"Components: {params['components']}\")\n",
        "  print(f\"Retentate mole fractions: {[Q[0]/Q_ret for Q in Q_R[:,N]]}\")\n",
        "  print(f\"Permeate mole fractions: {[Q/Q_perm for Q in Q_perm_comp]}\")\n",
        "\n",
        "  return None\n"
      ],
      "metadata": {
        "id": "tya3oXeh-4eG"
      },
      "execution_count": 350,
      "outputs": []
    },
    {
      "cell_type": "code",
      "source": [
        "def values(gekko_array):\n",
        "  # Return values from a gekko array as a list of values\n",
        "  return [el[0] for el in gekko_array.flatten()]"
      ],
      "metadata": {
        "id": "EPoNNdo_-4eH"
      },
      "execution_count": 243,
      "outputs": []
    },
    {
      "cell_type": "markdown",
      "source": [
        "## Case - Dejaco (2020)\n",
        "O2/N2 separation with spiral-wound membrane.\n"
      ],
      "metadata": {
        "id": "eQKX_N99GQxR"
      }
    },
    {
      "cell_type": "code",
      "source": [
        "# Model parameters\n",
        "# Data from Dejaco (2020), table 2\n",
        "params = {\n",
        "    'type_membrane': 'SW',  # HF = hollow-fiber, SW = spiral-wound\n",
        "    'flow_mode': 'cross-current', # counter-current, cross-current, co-current\n",
        "    'OD_fiber': 0, # outer diameter of fiber (m)\n",
        "    'length_fiber': 0,  # (m)\n",
        "    'number_fibers': 0, # (-)\n",
        "    'length_membrane': 0.19,  # (m)\n",
        "    'height_membrane': 0.394, # (m)\n",
        "    'components': [\"N2\", \"O2\"],\n",
        "    'q_GPU': [57.5, 145], # component permeance (GPU)\n",
        "    'section_count': 30,\n",
        "    'Q_feed':  1.7/3600,  # molar flow rate feed (mol/s)\n",
        "    'x_feed': [0.793, 0.207], # mole fractions feed (-)\n",
        "    'Q_sweep': 0.0,  # molar flow rate sweep (mol/s)\n",
        "    'x_sweep': [0.0, 0.0], # mole fractions sweep (-)\n",
        "    'p_feed': 274e3,  # (Pa)\n",
        "    'p_permeate': 101e3 # (Pa)\n",
        "}"
      ],
      "metadata": {
        "id": "wyVd0S4FDUi9"
      },
      "execution_count": 344,
      "outputs": []
    },
    {
      "cell_type": "code",
      "source": [
        "result = membrane_model(params, disp=False)"
      ],
      "metadata": {
        "colab": {
          "base_uri": "https://localhost:8080/"
        },
        "id": "cvmOr3JhH81p",
        "outputId": "a987ee1e-925d-4965-d032-5ce6e1249004"
      },
      "execution_count": 345,
      "outputs": [
        {
          "output_type": "stream",
          "name": "stdout",
          "text": [
            "SOLVER:\n",
            "Solver status: 1\n",
            "Solver time (ms): 16.1\n",
            "\n",
            "FLOWS:\n",
            "Feed flow (mol/s): 0.00047222222222\n",
            "Retentate flow (mol/s): 0.000177410612959\n",
            "Permeate flow (mol/s): 0.00029481160926579994\n",
            "Sweep flow (mol/s): 0.0\n",
            "Relative flow balance (-): -4.799925647919201e-15 \n",
            "Stage cut (-): 0.6243069372716907\n",
            "\n",
            "COMPOSITION:\n",
            "Components: ['N2', 'O2']\n",
            "Retentate mole fractions: [0.8725938923156551, 0.12740610768434496]\n",
            "Permeate mole fractions: [0.7451022891271281, 0.25489771087287205]\n"
          ]
        }
      ]
    },
    {
      "cell_type": "code",
      "source": [],
      "metadata": {
        "id": "Axp8iO-6xpfh"
      },
      "execution_count": null,
      "outputs": []
    },
    {
      "cell_type": "markdown",
      "source": [
        "## Case - Scholz (2013)\n",
        "CO2/propane separation with hollow-fiber membrane.\n"
      ],
      "metadata": {
        "id": "JpOjudsuZYkI"
      }
    },
    {
      "cell_type": "code",
      "source": [
        "# Model parameters\n",
        "# Data from Scholz (2013) Fig 6\n",
        "params = {\n",
        "    'type_membrane': 'HF',  # HF = hollow-fiber, SW = spiral-wound\n",
        "    'flow_mode': 'counter-current', # counter-current, cross-current, co-current\n",
        "    'OD_fiber': 415e-6, # outer diameter of fiber (m)\n",
        "    'length_fiber': 0.2,  # (m)\n",
        "    'number_fibers': 3380, # (-)\n",
        "    'length_membrane': 0,  # (m)\n",
        "    'height_membrane': 0, # (m)\n",
        "    'components': [\"CO2\", \"C3H8\"],\n",
        "    'q_GPU': [203, 0.23], # component permeance (GPU)\n",
        "    'section_count': 20,\n",
        "    'Q_feed': 80.4/3600,  # molar flow rate feed (mol/s)\n",
        "    'x_feed': [0.5, 0.5], # mole fractions feed (-)\n",
        "    'Q_sweep': 0.0,  # molar flow rate sweep (mol/s)\n",
        "    'x_sweep': [0.0, 0.0], # mole fractions sweep (-)\n",
        "    'p_feed': 300e3,  # (Pa)\n",
        "    'p_permeate': 100e3 # (Pa)\n",
        "}"
      ],
      "metadata": {
        "id": "N1Qwk1UHZYkI"
      },
      "execution_count": 357,
      "outputs": []
    },
    {
      "cell_type": "code",
      "source": [],
      "metadata": {
        "id": "yYyWjxuQ5DIR"
      },
      "execution_count": 357,
      "outputs": []
    },
    {
      "cell_type": "code",
      "source": [
        "membrane_model(params)"
      ],
      "metadata": {
        "colab": {
          "base_uri": "https://localhost:8080/"
        },
        "outputId": "4d4e81d7-d6a4-4a77-cf83-e5c110663382",
        "id": "9EtMU6PRZYkJ"
      },
      "execution_count": 358,
      "outputs": [
        {
          "output_type": "stream",
          "name": "stdout",
          "text": [
            "SOLVER:\n",
            "Solver status: 1\n",
            "Solver time (ms): 14.7\n",
            "\n",
            "FLOWS:\n",
            "Feed flow (mol/s): 0.022333333334\n",
            "Retentate flow (mol/s): 0.0198897190719\n",
            "Permeate flow (mol/s): 0.002443614261048\n",
            "Sweep flow (mol/s): 0.0\n",
            "Relative flow balance (-): 1.052002235324423e-12 \n",
            "Stage cut (-): 0.10941556392425623\n",
            "\n",
            "COMPOSITION:\n",
            "Components: ['CO2', 'C3H8']\n",
            "Retentate mole fractions: [0.4391151578022605, 0.5608848421977395]\n",
            "Permeate mole fractions: [0.9955701996339809, 0.004429800366019132]\n"
          ]
        }
      ]
    },
    {
      "cell_type": "code",
      "source": [],
      "metadata": {
        "id": "X_1stdZJIOyI"
      },
      "execution_count": 347,
      "outputs": []
    },
    {
      "cell_type": "markdown",
      "source": [
        "## Case - Pan (1986) fig 7\n",
        "H2S/CO2 separation from hydrocarbon mixture with hollow-fiber membrane.\n"
      ],
      "metadata": {
        "id": "himbJHUpb_AL"
      }
    },
    {
      "cell_type": "code",
      "source": [
        "# Model parameters\n",
        "# Data from Pan (1986) Fig 6\n",
        "params = {\n",
        "    'type_membrane': 'HF',  # HF = hollow-fiber, SW = spiral-wound\n",
        "    'flow_mode': 'counter-current', # counter-current, cross-current, co-current\n",
        "    'OD_fiber': 200e-6, # outer diameter of fiber (m)\n",
        "    'length_fiber': 0.36,  # (m)\n",
        "    'number_fibers': 20, # (-)\n",
        "    'length_membrane': 0,  # (m)\n",
        "    'height_membrane': 0, # (m)\n",
        "    'components': [\"H2S\", \"CO2\", \"CH4\", \"N2\"],\n",
        "    'q_GPU': [73.13, 73.13, 3.95, 3.95], # component permeance (GPU)\n",
        "    'section_count': 30,\n",
        "    'Q_feed': 10e-3,  # molar flow rate feed (mol/s)\n",
        "    'x_feed': [0.2209, 0.0338, 0.6605, 0.0837], # mole fractions feed (-)\n",
        "    'Q_sweep': 0.0,  # molar flow rate sweep (mol/s)\n",
        "    'x_sweep': [0.0, 0.0, 0.0, 0.0], # mole fractions sweep (-)\n",
        "    'p_feed': 5245e3,  # (Pa)\n",
        "    'p_permeate': 92.8e3 # (Pa)\n",
        "}"
      ],
      "metadata": {
        "id": "yBABEtJab_AM"
      },
      "execution_count": 239,
      "outputs": []
    },
    {
      "cell_type": "code",
      "source": [
        "membrane_model(params, disp=True)"
      ],
      "metadata": {
        "colab": {
          "base_uri": "https://localhost:8080/"
        },
        "outputId": "9e552276-b25d-4908-eb8a-70cd1a6291c2",
        "id": "DPcU0r2hb_AN"
      },
      "execution_count": 240,
      "outputs": [
        {
          "output_type": "stream",
          "name": "stdout",
          "text": [
            "apm 34.169.61.19_gk_model68 <br><pre> ----------------------------------------------------------------\n",
            " APMonitor, Version 1.0.3\n",
            " APMonitor Optimization Suite\n",
            " ----------------------------------------------------------------\n",
            " \n",
            " \n",
            " --------- APM Model Size ------------\n",
            " Each time step contains\n",
            "   Objects      :            0\n",
            "   Constants    :            0\n",
            "   Variables    :          256\n",
            "   Intermediates:           64\n",
            "   Connections  :           32\n",
            "   Equations    :          304\n",
            "   Residuals    :          240\n",
            " \n",
            " Number of state variables:            240\n",
            " Number of total equations: -          240\n",
            " Number of slack variables: -            0\n",
            " ---------------------------------------\n",
            " Degrees of freedom       :              0\n",
            " \n",
            " ----------------------------------------------\n",
            " Steady State Simulation with APOPT Solver\n",
            " ----------------------------------------------\n",
            " \n",
            " Iter    Objective  Convergence\n",
            "    0  8.80622E-25  5.00000E-03\n",
            "    1  1.31447E-26  2.25024E-06\n",
            "    2  9.28695E-31  2.51393E-08\n",
            "    3  9.28695E-31  2.51393E-08\n",
            " Successful solution\n",
            " \n",
            " ---------------------------------------------------\n",
            " Solver         :  APOPT (v1.0)\n",
            " Solution time  :   2.189999999245629E-002 sec\n",
            " Objective      :   0.000000000000000E+000\n",
            " Successful solution\n",
            " ---------------------------------------------------\n",
            " \n",
            "SOLVER:\n",
            "Solver status: 1\n",
            "Solver time (ms): 21.9\n",
            "\n",
            "FLOWS:\n",
            "Feed flow (mol/s): 0.009989\n",
            "Retentate flow (mol/s): 0.009829007606719998\n",
            "Permeate flow (mol/s): 0.0001599923932267\n",
            "Sweep flow (mol/s): 0.0\n",
            "Relative flow balance (-): 5.3301113522863375e-14 \n",
            "Stage cut (-): 0.016016857866322957\n",
            "\n",
            "COMPOSITION:\n",
            "Components: ['H2S', 'CO2', 'CH4', 'N2']\n",
            "Retentate mole fractions: [0.21269618026042444, 0.032544735240747955, 0.6698715067326293, 0.08488757776619846]\n",
            "Permeate mole fractions: [0.7400828493903658, 0.11324006969711664, 0.1301803439710294, 0.016496736941488146]\n"
          ]
        }
      ]
    },
    {
      "cell_type": "code",
      "source": [],
      "metadata": {
        "id": "ZPGYMzg0csED"
      },
      "execution_count": null,
      "outputs": []
    }
  ]
}